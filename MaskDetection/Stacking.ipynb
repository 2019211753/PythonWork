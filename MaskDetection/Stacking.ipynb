{
 "cells": [
  {
   "cell_type": "code",
   "execution_count": 1,
   "metadata": {
    "pycharm": {
     "name": "#%%\n"
    }
   },
   "outputs": [],
   "source": [
    "import re\n",
    "import numpy as np\n",
    "import pandas as pd\n",
    "import matplotlib as mlp\n",
    "import matplotlib.pyplot as plt\n",
    "import sklearn\n",
    "import xgboost as xgb\n",
    "import os\n",
    "import time"
   ]
  },
  {
   "cell_type": "code",
   "execution_count": 2,
   "metadata": {
    "pycharm": {
     "name": "#%%\n"
    }
   },
   "outputs": [
    {
     "name": "stdout",
     "output_type": "stream",
     "text": [
      "sklearn 0.24.2\n",
      "matplotlib 3.3.4\n",
      "numpy 1.19.5\n",
      "pandas 1.1.5\n",
      "xgboost 1.5.2\n"
     ]
    }
   ],
   "source": [
    "for package in [sklearn,mlp,np,pd,xgb]:\n",
    "    print(re.findall(\"([^']*)\",str(package))[2],package.__version__)\n"
   ]
  },
  {
   "cell_type": "code",
   "execution_count": 3,
   "metadata": {
    "pycharm": {
     "name": "#%%\n"
    }
   },
   "outputs": [],
   "source": [
    "#算法辅助 & 数据\n",
    "import sklearn\n",
    "from sklearn.model_selection import KFold, cross_validate\n",
    "from sklearn.model_selection import train_test_split\n",
    "\n",
    "#算法（单一学习器）\n",
    "from sklearn.neighbors import KNeighborsClassifier as KNNC\n",
    "from sklearn.tree import DecisionTreeClassifier as DTC\n",
    "from sklearn.linear_model import LogisticRegression as LogiR\n",
    "from sklearn.ensemble import RandomForestClassifier as RFC\n",
    "from sklearn.ensemble import GradientBoostingClassifier as GBC\n",
    "from sklearn.naive_bayes import GaussianNB\n",
    "\n",
    "#融合模型\n",
    "from sklearn.ensemble import StackingClassifier\n",
    "from sklearn.ensemble import VotingClassifier"
   ]
  },
  {
   "cell_type": "code",
   "execution_count": 8,
   "metadata": {
    "pycharm": {
     "name": "#%%\n"
    }
   },
   "outputs": [],
   "source": [
    "# 根路径\n",
    "file_ori =  'hog' + \"\\\\\"\n",
    "# 原始图片文件夹路径\n",
    "mask_wear_incorrect = 'mask_weared_incorrect'\n",
    "mask_wear = 'with_mask'\n",
    "mask_without = 'without_mask'"
   ]
  },
  {
   "cell_type": "code",
   "execution_count": 9,
   "metadata": {
    "pycharm": {
     "name": "#%%\n"
    }
   },
   "outputs": [],
   "source": [
    "def getData(source, tag):\n",
    "    num = os.listdir(source)  # num为list类型，存储着每张图片的名字\n",
    "    for j in range(len(num)):\n",
    "        k = np.load(file=source+'\\\\'+str(j) + \".npy\", allow_pickle=True)\n",
    "        X.append(k)\n",
    "        y.append(tag)"
   ]
  },
  {
   "cell_type": "code",
   "execution_count": null,
   "metadata": {
    "pycharm": {
     "name": "#%%\n"
    }
   },
   "outputs": [],
   "source": [
    "X = []\n",
    "y = []\n",
    "# 戴口罩标记为0 不戴为1 戴不对为2\n",
    "getData(file_ori + mask_wear, 0)\n",
    "getData(file_ori + mask_without, 1)\n",
    "getData(file_ori + mask_wear_incorrect, 2)\n",
    "X = np.array(X)\n",
    "X = np.reshape(X, (X.shape[0], -1))\n",
    "y = np.array(y)"
   ]
  },
  {
   "cell_type": "code",
   "execution_count": 13,
   "metadata": {
    "pycharm": {
     "name": "#%%\n"
    }
   },
   "outputs": [
    {
     "data": {
      "text/plain": "(2403, 8100)"
     },
     "execution_count": 13,
     "metadata": {},
     "output_type": "execute_result"
    }
   ],
   "source": [
    "X.shape"
   ]
  },
  {
   "cell_type": "code",
   "execution_count": 14,
   "metadata": {
    "pycharm": {
     "name": "#%%\n"
    }
   },
   "outputs": [
    {
     "data": {
      "text/plain": "array([0, 1, 2])"
     },
     "execution_count": 14,
     "metadata": {},
     "output_type": "execute_result"
    }
   ],
   "source": [
    "np.unique(y)"
   ]
  },
  {
   "cell_type": "code",
   "execution_count": 15,
   "metadata": {
    "pycharm": {
     "name": "#%%\n"
    }
   },
   "outputs": [],
   "source": [
    "# random_state表示随机种子 使用同一个种子得到的划分结果是一样的\n",
    "Xtrain, Xtest, Ytrain, Ytest = train_test_split(X, y, test_size=0.2, random_state=1412)"
   ]
  },
  {
   "cell_type": "code",
   "execution_count": 16,
   "metadata": {
    "pycharm": {
     "name": "#%%\n"
    }
   },
   "outputs": [],
   "source": [
    "def fusion_estimators(clf):\n",
    "    \"\"\"\n",
    "    对融合模型做交叉验证，对融合模型的表现进行评估\n",
    "    \"\"\"\n",
    "    cv = KFold(n_splits=5,shuffle=True,random_state=1412)\n",
    "    results = cross_validate(clf,Xtrain,Ytrain\n",
    "                             ,cv = cv\n",
    "                             ,scoring = \"accuracy\"\n",
    "                             ,n_jobs = -1\n",
    "                             ,return_train_score = True\n",
    "                             ,verbose=False)\n",
    "    test = clf.fit(Xtrain,Ytrain).score(Xtest,Ytest)\n",
    "    print(\"train_score:{}\".format(results[\"train_score\"].mean())\n",
    "          ,\"\\n cv_mean:{}\".format(results[\"test_score\"].mean())\n",
    "          ,\"\\n test_score:{}\".format(test)\n",
    "         )"
   ]
  },
  {
   "cell_type": "code",
   "execution_count": 17,
   "metadata": {
    "pycharm": {
     "name": "#%%\n"
    }
   },
   "outputs": [],
   "source": [
    "def individual_estimators(estimators):\n",
    "    \"\"\"\n",
    "    对模型融合中每个评估器做交叉验证，对单一评估器的表现进行评估\n",
    "    \"\"\"\n",
    "    for estimator in estimators:\n",
    "        cv = KFold(n_splits=5,shuffle=True,random_state=1412)\n",
    "        results = cross_validate(estimator[1],Xtrain,Ytrain\n",
    "                             ,cv = cv\n",
    "                             ,scoring = \"accuracy\"\n",
    "                             ,n_jobs = -1\n",
    "                             ,return_train_score = True\n",
    "                             ,verbose=False)\n",
    "        test = estimator[1].fit(Xtrain,Ytrain).score(Xtest,Ytest)\n",
    "        print(estimator[0]\n",
    "          ,\"\\n train_score:{}\".format(results[\"train_score\"].mean())\n",
    "          ,\"\\n cv_mean:{}\".format(results[\"test_score\"].mean())\n",
    "          ,\"\\n test_score:{}\".format(test)\n",
    "          ,\"\\n\")"
   ]
  },
  {
   "cell_type": "code",
   "execution_count": 18,
   "metadata": {
    "pycharm": {
     "name": "#%%\n"
    }
   },
   "outputs": [],
   "source": [
    "'''调节元学习器'''\n",
    "#逻辑回归没有增加多样性的选项\n",
    "clf1 = LogiR(max_iter = 3000, C=0.1, random_state=1412,n_jobs=5)\n",
    "#增加特征多样性与样本多样性\n",
    "clf2 = RFC(n_estimators= 100,max_features=\"sqrt\",max_samples=0.9, random_state=1412,n_jobs=5)\n",
    "#特征多样性，稍微上调特征数量\n",
    "clf3 = GBC(n_estimators= 150,max_features=16,random_state=1412)\n",
    "\n",
    "#增加算法多样性，新增决策树与KNN\n",
    "clf4 = DTC(max_depth=16,random_state=1412)\n",
    "clf5 = KNNC(n_neighbors=16,n_jobs=5)\n",
    "clf6 = GaussianNB()\n",
    "\n",
    "#新增随机多样性，相同的算法更换随机数种子\n",
    "clf7 = RFC(n_estimators= 100,max_features=\"sqrt\",max_samples=0.9, random_state=4869,n_jobs=5)\n",
    "clf8 = GBC(n_estimators= 100,max_features=16,random_state=4869)\n",
    "\n",
    "# 加入SVM\n",
    "clf9 = sklearn.svm.SVC(C=0.28, kernel='rbf',random_state=1412,probability=True)\n",
    "\n",
    "estimators = [(\"Logistic Regression\",clf1),\n",
    "              (\"RandomForest\", clf2),\n",
    "              (\"GBDT\",clf3),\n",
    "               (\"Decision Tree\", clf4),\n",
    "              (\"KNN\",clf5),\n",
    "              (\"Bayes\",clf6),\n",
    "              (\"RandomForest2\", clf7), (\"GBDT2\", clf8),\n",
    "              (\"SVM\", clf9)\n",
    "             ]\n",
    "\n"
   ]
  },
  {
   "cell_type": "code",
   "execution_count": 19,
   "metadata": {
    "pycharm": {
     "name": "#%%\n"
    }
   },
   "outputs": [],
   "source": [
    "final_estimator = LogiR(max_iter = 4000, C=5, random_state=420,n_jobs=5)\n",
    "clf = StackingClassifier(estimators=estimators #level0的7个体学习器\n",
    "                         ,final_estimator=final_estimator #level 1的元学习器\n",
    "                         ,n_jobs=5)\n",
    "\n",
    "# clf = VotingClassifier(estimators,voting=\"soft\")"
   ]
  },
  {
   "cell_type": "code",
   "execution_count": 20,
   "metadata": {
    "pycharm": {
     "name": "#%%\n"
    }
   },
   "outputs": [
    {
     "name": "stdout",
     "output_type": "stream",
     "text": [
      "train_score:1.0 \n",
      " cv_mean:0.9630668290043289 \n",
      " test_score:0.9667359667359667\n",
      "running time:1879\n"
     ]
    }
   ],
   "source": [
    "begin = time.time()\n",
    "fusion_estimators(clf)\n",
    "\n",
    "end = time.time()\n",
    "print(\"running time:%d\" %(end - begin))"
   ]
  },
  {
   "cell_type": "code",
   "execution_count": null,
   "outputs": [
    {
     "name": "stdout",
     "output_type": "stream",
     "text": [
      "Logistic Regression \n",
      " train_score:0.9994797593474528 \n",
      " cv_mean:0.9464177489177491 \n",
      " test_score:0.9417879417879418 \n",
      "\n",
      "RandomForest \n",
      " train_score:1.0 \n",
      " cv_mean:0.9146685606060606 \n",
      " test_score:0.9272349272349273 \n",
      "\n",
      "GBDT \n",
      " train_score:0.9996098829648894 \n",
      " cv_mean:0.9443357683982685 \n",
      " test_score:0.9397089397089398 \n",
      "\n",
      "KNN \n",
      " train_score:0.9090776875222618 \n",
      " cv_mean:0.8917911255411255 \n",
      " test_score:0.8835758835758836 \n",
      "\n",
      "Bayes \n",
      " train_score:0.9197446091342043 \n",
      " cv_mean:0.88553841991342 \n",
      " test_score:0.8482328482328483 \n",
      "\n",
      "RandomForest2 \n",
      " train_score:1.0 \n",
      " cv_mean:0.9172794913419914 \n",
      " test_score:0.9272349272349273 \n",
      "\n",
      "GBDT2 \n",
      " train_score:0.9994797593474528 \n",
      " cv_mean:0.9302840909090909 \n",
      " test_score:0.9251559251559252 \n",
      "\n"
     ]
    }
   ],
   "source": [
    "begin = time.time()\n",
    "individual_estimators(estimators)\n",
    "\n",
    "end = time.time()\n",
    "print(\"running time:%d\" %(end - begin))"
   ],
   "metadata": {
    "collapsed": false,
    "pycharm": {
     "name": "#%%\n"
    }
   }
  },
  {
   "cell_type": "code",
   "execution_count": 21,
   "outputs": [
    {
     "data": {
      "text/plain": "['dst_model.pkl']"
     },
     "execution_count": 21,
     "metadata": {},
     "output_type": "execute_result"
    }
   ],
   "source": [
    "# save model\n",
    "import joblib\n",
    "joblib.dump(clf, 'dst_model.pkl')"
   ],
   "metadata": {
    "collapsed": false,
    "pycharm": {
     "name": "#%%\n"
    }
   }
  },
  {
   "cell_type": "code",
   "execution_count": 4,
   "outputs": [
    {
     "ename": "NameError",
     "evalue": "name 'clf' is not defined",
     "output_type": "error",
     "traceback": [
      "\u001B[1;31m---------------------------------------------------------------------------\u001B[0m",
      "\u001B[1;31mNameError\u001B[0m                                 Traceback (most recent call last)",
      "\u001B[1;32m<ipython-input-4-1c8392ea8aff>\u001B[0m in \u001B[0;36m<module>\u001B[1;34m\u001B[0m\n\u001B[0;32m      2\u001B[0m \u001B[0mconfusion_mat\u001B[0m \u001B[1;33m=\u001B[0m \u001B[0mnp\u001B[0m\u001B[1;33m.\u001B[0m\u001B[0mzeros\u001B[0m\u001B[1;33m(\u001B[0m\u001B[1;33m(\u001B[0m\u001B[1;36m3\u001B[0m\u001B[1;33m,\u001B[0m \u001B[1;36m3\u001B[0m\u001B[1;33m)\u001B[0m\u001B[1;33m)\u001B[0m \u001B[1;31m# 三分类混淆矩阵 y:real_label x:pred_label\u001B[0m\u001B[1;33m\u001B[0m\u001B[1;33m\u001B[0m\u001B[0m\n\u001B[0;32m      3\u001B[0m \u001B[0midx\u001B[0m \u001B[1;33m=\u001B[0m \u001B[1;36m0\u001B[0m\u001B[1;33m\u001B[0m\u001B[1;33m\u001B[0m\u001B[0m\n\u001B[1;32m----> 4\u001B[1;33m \u001B[0mpred_label\u001B[0m \u001B[1;33m=\u001B[0m \u001B[0mclf\u001B[0m\u001B[1;33m.\u001B[0m\u001B[0mpredict\u001B[0m\u001B[1;33m(\u001B[0m\u001B[0mXtest\u001B[0m\u001B[1;33m)\u001B[0m\u001B[1;33m\u001B[0m\u001B[1;33m\u001B[0m\u001B[0m\n\u001B[0m\u001B[0;32m      5\u001B[0m \u001B[1;32mfor\u001B[0m \u001B[1;33m(\u001B[0m\u001B[0mpred\u001B[0m\u001B[1;33m,\u001B[0m \u001B[0mreal\u001B[0m\u001B[1;33m)\u001B[0m \u001B[1;32min\u001B[0m \u001B[0mzip\u001B[0m\u001B[1;33m(\u001B[0m\u001B[0mpred_label\u001B[0m\u001B[1;33m,\u001B[0m \u001B[0mYtest\u001B[0m\u001B[1;33m)\u001B[0m\u001B[1;33m:\u001B[0m\u001B[1;33m\u001B[0m\u001B[1;33m\u001B[0m\u001B[0m\n\u001B[0;32m      6\u001B[0m     \u001B[0mconfusion_mat\u001B[0m\u001B[1;33m[\u001B[0m\u001B[0mreal\u001B[0m\u001B[1;33m,\u001B[0m \u001B[0mpred\u001B[0m\u001B[1;33m]\u001B[0m \u001B[1;33m=\u001B[0m \u001B[0mconfusion_mat\u001B[0m\u001B[1;33m[\u001B[0m\u001B[0mreal\u001B[0m\u001B[1;33m,\u001B[0m \u001B[0mpred\u001B[0m\u001B[1;33m]\u001B[0m \u001B[1;33m+\u001B[0m \u001B[1;36m1\u001B[0m\u001B[1;33m\u001B[0m\u001B[1;33m\u001B[0m\u001B[0m\n",
      "\u001B[1;31mNameError\u001B[0m: name 'clf' is not defined"
     ]
    }
   ],
   "source": [
    "# 481个测试样例\n",
    "confusion_mat = np.zeros((3, 3)) # 三分类混淆矩阵 y:real_label x:pred_label\n",
    "idx = 0\n",
    "pred_label = clf.predict(Xtest)\n",
    "for (pred, real) in zip(pred_label, Ytest):\n",
    "    confusion_mat[real, pred] = confusion_mat[real, pred] + 1\n",
    "confusion_mat"
   ],
   "metadata": {
    "collapsed": false,
    "pycharm": {
     "name": "#%%\n"
    }
   }
  },
  {
   "cell_type": "code",
   "execution_count": null,
   "outputs": [],
   "source": [
    "# 画热图\n",
    "datas = np.log(1 + confusion_mat)  # 防止0\n",
    "ax = plt.subplot()\n",
    "x_tick = ['with', 'without', 'incorrect']\n",
    "y_tick = ['with', 'without', 'incorrect']\n",
    "im = ax.imshow(datas, cmap='binary')  #绘制 可通过更改cmap改变颜色\n",
    "ax.set_xticks(np.arange(len(x_tick)), labels=x_tick)  #设置标签\n",
    "ax.set_yticks(np.arange(len(y_tick)), labels=y_tick)\n",
    "plt.colorbar(im)\n",
    "plt.gcf().savefig(\"hot.svg\", dpi=300)\n",
    "plt.show()"
   ],
   "metadata": {
    "collapsed": false,
    "pycharm": {
     "name": "#%%\n"
    }
   }
  },
  {
   "cell_type": "code",
   "execution_count": null,
   "outputs": [],
   "source": [
    "(R, P) = (0, 0)\n",
    "for idx in range(3):\n",
    "    P = P + confusion_mat[idx, idx] / sum(confusion_mat[:, idx])\n",
    "    R = R + confusion_mat[idx, idx] / sum(confusion_mat[idx, :])\n",
    "(R, P) = (R / 3, P / 3)\n",
    "F1 = 2 * R * P / (P + R)\n",
    "print(\"P={}, R={}, F1={}\".format(P, R, F1))"
   ],
   "metadata": {
    "collapsed": false,
    "pycharm": {
     "name": "#%%\n"
    }
   }
  },
  {
   "cell_type": "code",
   "execution_count": null,
   "outputs": [],
   "source": [
    "# 绘制模型比较直方图\n",
    "name_list = ['Logistic','RandomForest_1','GBDT','Decision Tree', 'KNN', 'Bayes',\n",
    "             'RandomForest_2', 'GBDT_2', 'SVM', 'voting', 'Stacking']\n",
    "num_list_1 = [0.999479, 1.0,      0.999609, 1.0,      0.909077, 0.919744, 1.0,      0.999479,\n",
    "              0.959677, 0.999869, 1.0]\n",
    "num_list_2 = [0.946417, 0.914668, 0.944335, 0.716961, 0.891791, 0.885538, 0.917279, 0.930284,\n",
    "              0.914673, 0.942251, 0.962550]\n",
    "num_list_3 = [0.941787, 0.927234, 0.939708, 0.690228, 0.883575, 0.848232, 0.927234, 0.925155,\n",
    "              0.902286, 0.931392, 0.966735]\n",
    "\n",
    "x = list(range(0, 8 * len(name_list), 8))\n",
    "total_width, n = 6, 3\n",
    "width = total_width / n\n",
    "\n",
    "fig = plt.figure(figsize=(16, 8))    # 设置画布大小\n",
    "plt.bar(x, num_list_1, width=width, label='train_score',fc = 'y')\n",
    "for i in range(len(x)):\n",
    "    x[i] = x[i] + width\n",
    "plt.bar(x, num_list_2, width=width, label='cv_mean',tick_label = name_list,fc = 'g')\n",
    "for i in range(len(x)):\n",
    "    x[i] = x[i] + width\n",
    "plt.bar(x, num_list_3, width=width, label='test_score',tick_label = name_list,fc = 'k')\n",
    "plt.legend()\n",
    "plt.ylim(0.825, 1)\n",
    "y_1 = max(num_list_2)\n",
    "y_2 = max(num_list_3)\n",
    "plt.axhline(y=y_1, color='r', linestyle='-')\n",
    "plt.axhline(y=y_2, color='bxQxQ', linestyle='-')\n",
    "plt.show()"
   ],
   "metadata": {
    "collapsed": false,
    "pycharm": {
     "name": "#%%\n"
    }
   }
  },
  {
   "cell_type": "code",
   "execution_count": 5,
   "outputs": [],
   "source": [
    "# 单图片分类效果\n",
    "def classifyImg(fileName):\n",
    "    import cv2\n",
    "    from HogExtract import Hog_descriptor\n",
    "    img = cv2.imread(fileName, cv2.IMREAD_COLOR)\n",
    "    gray = cv2.cvtColor(img, cv2.COLOR_BGR2GRAY)\n",
    "    hog = Hog_descriptor(gray, cell_size=8, bin_size=9)\n",
    "    vector, _ = hog.extract()\n",
    "    vector = np.array(vector).reshape((1, -1))\n",
    "    label_pred = clf.predict(vector)\n",
    "    # 戴口罩标记为0 不戴为1 戴不对为2\n",
    "    if label_pred == 0:\n",
    "        img = cv2.cvtColor(img, cv2.COLOR_BGR2RGB)\n",
    "        plt.imshow(img)\n",
    "        plt.rcParams['font.sans-serif'] = ['SimHei']  # 用来正常显示中文标签\n",
    "        plt.title('口罩佩戴正确')\n",
    "        plt.show()\n",
    "        print(\"戴口罩\")\n",
    "    elif label_pred == 1:\n",
    "        img = cv2.cvtColor(img, cv2.COLOR_BGR2RGB)\n",
    "        plt.imshow(img)\n",
    "        plt.rcParams['font.sans-serif'] = ['SimHei']  # 用来正常显示中文标签\n",
    "        plt.title('没戴口罩')\n",
    "        plt.show()\n",
    "        print(\"没戴口罩\")\n",
    "    else:\n",
    "        img = cv2.cvtColor(img, cv2.COLOR_BGR2RGB)\n",
    "        plt.imshow(img)\n",
    "        plt.rcParams['font.sans-serif'] = ['SimHei']  # 用来正常显示中文标签\n",
    "        plt.title('口罩佩戴不正确')\n",
    "        plt.show()\n",
    "        print(\"口罩佩戴不正确\")"
   ],
   "metadata": {
    "collapsed": false,
    "pycharm": {
     "name": "#%%\n"
    }
   }
  },
  {
   "cell_type": "code",
   "execution_count": 8,
   "outputs": [
    {
     "data": {
      "text/plain": "<Figure size 432x288 with 1 Axes>",
      "image/png": "[encoded data removed]"
     },
     "metadata": {
      "needs_background": "light"
     },
     "output_type": "display_data"
    },
    {
     "name": "stdout",
     "output_type": "stream",
     "text": [
      "口罩佩戴不正确\n",
      "running time:1265\n"
     ]
    }
   ],
   "source": [
    "import joblib\n",
    "clf = joblib.load('dst_model.pkl')\n",
    "begin = time.time()\n",
    "classifyImg('data\\\\mask_weared_incorrect\\\\201.png')\n",
    "\n",
    "end = time.time()\n",
    "print(\"running time:%d\" %(round((end - begin) * 1000)))"
   ],
   "metadata": {
    "collapsed": false,
    "pycharm": {
     "name": "#%%\n"
    }
   }
  }
 ],
 "metadata": {
  "kernelspec": {
   "display_name": "Python 3 (ipykernel)",
   "language": "python",
   "name": "python3"
  },
  "language_info": {
   "codemirror_mode": {
    "name": "ipython",
    "version": 3
   },
   "file_extension": ".py",
   "mimetype": "text/x-python",
   "name": "python",
   "nbconvert_exporter": "python",
   "pygments_lexer": "ipython3",
   "version": "3.6.8"
  }
 },
 "nbformat": 4,
 "nbformat_minor": 1
}